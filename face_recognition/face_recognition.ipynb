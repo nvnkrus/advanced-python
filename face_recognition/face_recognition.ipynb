{
 "cells": [
  {
   "cell_type": "code",
   "execution_count": null,
   "metadata": {},
   "outputs": [],
   "source": [
    "import os\n",
    "import cv2\n",
    "import face_recognition\n",
    "\n",
    "# Đường dẫn đến thư mục chứa ảnh\n",
    "image_folder = 'path/to/your/image/folder'\n",
    "\n",
    "# Đọc danh sách tất cả các tệp ảnh trong thư mục\n",
    "image_files = [f for f in os.listdir(image_folder) if f.endswith('.jpg')]\n",
    "\n",
    "# Tải mô hình nhận diện khuôn mặt\n",
    "face_cascade = cv2.CascadeClassifier(cv2.data.haarcascades + 'haarcascade_frontalface_default.xml')\n",
    "\n",
    "# Tải ảnh của người bạn\n",
    "image_of_friend = face_recognition.load_image_file('path/to/your/friend/image.jpg')\n",
    "friend_face_encoding = face_recognition.face_encodings(image_of_friend)[0]\n",
    "\n",
    "# Tạo thư mục mới để lưu ảnh đã lọc\n",
    "os.makedirs('path/to/filtered/images', exist_ok=True)\n",
    "\n",
    "for image_file in image_files:\n",
    "    # Đọc ảnh\n",
    "    img = cv2.imread(os.path.join(image_folder, image_file))\n",
    "\n",
    "    # Chuyển ảnh sang grayscale\n",
    "    gray = cv2.cvtColor(img, cv2.COLOR_BGR2GRAY)\n",
    "\n",
    "    # Nhận diện khuôn mặt\n",
    "    faces = face_cascade.detectMultiScale(gray, scaleFactor=1.1, minNeighbors=5)\n",
    "\n",
    "    # Kiểm tra xem có khuôn mặt của người bạn trong ảnh không\n",
    "    for (x, y, w, h) in faces:\n",
    "        face_encoding = face_recognition.face_encodings(img[y:y+h, x:x+w])[0]\n",
    "        results = face_recognition.compare_faces([friend_face_encoding], face_encoding, tolerance=0.5)\n",
    "        if results[0]:\n",
    "            # Lưu ảnh đã lọc vào thư mục mới\n",
    "            new_path = os.path.join('path/to/filtered/images', image_file)\n",
    "            cv2.imwrite(new_path, img)\n",
    "\n",
    "print(\"Đã lọc xong ảnh chứa khuôn mặt của người bạn!\")\n"
   ]
  }
 ],
 "metadata": {
  "language_info": {
   "name": "python"
  }
 },
 "nbformat": 4,
 "nbformat_minor": 2
}
