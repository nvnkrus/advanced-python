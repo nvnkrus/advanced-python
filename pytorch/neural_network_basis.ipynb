{
 "cells": [
  {
   "cell_type": "code",
   "execution_count": 2,
   "metadata": {},
   "outputs": [],
   "source": [
    "import torch.nn as nn\n",
    "import torch.nn.init as init\n",
    "\n",
    "def initialize_parameters(model, init_method='uniform', **kwargs):\n",
    "    \"\"\"\n",
    "    Khởi tạo tham số cho mạng neural network.\n",
    "\n",
    "    Args:\n",
    "        model (nn.Module): Mô hình PyTorch cần khởi tạo.\n",
    "        init_method (str): Phương pháp khởi tạo. Hỗ trợ: 'uniform', 'normal', \n",
    "                           'xavier_uniform', 'xavier_normal', 'kaiming_uniform', 'kaiming_normal'.\n",
    "        **kwargs: Tham số bổ sung cho hàm khởi tạo (ví dụ: mean và std cho normal, a và b cho uniform).\n",
    "    \"\"\"\n",
    "    \n",
    "    def init_weight(m):\n",
    "        if isinstance(m, nn.Linear) or isinstance(m, nn.Conv2d):\n",
    "            if init_method == 'uniform':\n",
    "                init.uniform_(m.weight, **kwargs)\n",
    "            elif init_method == 'normal':\n",
    "                init.normal_(m.weight, **kwargs)\n",
    "            elif init_method == 'xavier_uniform':\n",
    "                init.xavier_uniform_(m.weight, **kwargs)\n",
    "            elif init_method == 'xavier_normal':\n",
    "                init.xavier_normal_(m.weight, **kwargs)\n",
    "            elif init_method == 'kaiming_uniform':\n",
    "                init.kaiming_uniform_(m.weight, **kwargs)\n",
    "            elif init_method == 'kaiming_normal':\n",
    "                init.kaiming_normal_(m.weight, **kwargs)\n",
    "            else:\n",
    "                raise ValueError(f\"Không hỗ trợ phương pháp khởi tạo: {init_method}\")\n",
    "            \n",
    "            if m.bias is not None:\n",
    "                init.constant_(m.bias, 0)\n",
    "\n",
    "    model.apply(init_weight)\n",
    "\n",
    "# Ví dụ sử dụng\n",
    "class MyNetwork(nn.Module):\n",
    "    def __init__(self):\n",
    "        super(MyNetwork, self).__init__()\n",
    "        self.conv1 = nn.Conv2d(1, 20, 5)\n",
    "        self.conv2 = nn.Conv2d(20, 50, 5)\n",
    "        self.fc1 = nn.Linear(4*4*50, 500)\n",
    "        self.fc2 = nn.Linear(500, 10)\n",
    "\n",
    "# Tạo một instance của MyNetwork\n",
    "net = MyNetwork()\n",
    "# Khởi tạo tham số sử dụng phương pháp 'kaiming_normal' cho ReLU activation\n",
    "# initialize_parameters(net, init_method='kaiming_normal', nonlinearity='relu')\n",
    "initialize_parameters(net, init_method='normal', mean=0, std=0.1)\n"
   ]
  },
  {
   "cell_type": "code",
   "execution_count": 1,
   "metadata": {},
   "outputs": [
    {
     "name": "stdout",
     "output_type": "stream",
     "text": [
      "[[ 3.5  4.5  5.5]\n",
      " [ 7.5  8.5  9.5]\n",
      " [11.5 12.5 13.5]]\n"
     ]
    }
   ],
   "source": [
    "import numpy as np\n",
    "\n",
    "def create_Y_from_X(X):\n",
    "    # Lấy các phần tử từng ô theo hàng và cột\n",
    "    top_left = X[:-1, :-1]\n",
    "    top_right = X[:-1, 1:]\n",
    "    bottom_left = X[1:, :-1]\n",
    "    bottom_right = X[1:, 1:]\n",
    "    \n",
    "    # Tính giá trị trung bình cộng của mỗi ô\n",
    "    Y = (top_left + top_right + bottom_left + bottom_right) / 4\n",
    "    \n",
    "    return Y\n",
    "\n",
    "# Ví dụ\n",
    "X = np.array([[1, 2, 3, 4],\n",
    "              [5, 6, 7, 8],\n",
    "              [9, 10, 11, 12],\n",
    "              [13, 14, 15, 16]])\n",
    "\n",
    "Y = create_Y_from_X(X)\n",
    "print(Y)\n"
   ]
  },
  {
   "cell_type": "code",
   "execution_count": 4,
   "metadata": {},
   "outputs": [
    {
     "name": "stdout",
     "output_type": "stream",
     "text": [
      "[[1 2 3]\n",
      " [4 5 6]]\n",
      "[[0 0 0 0 0]\n",
      " [0 1 2 3 0]\n",
      " [0 4 5 6 0]\n",
      " [0 0 0 0 0]]\n",
      "[[1 1 2 3 3]\n",
      " [1 1 2 3 3]\n",
      " [4 4 5 6 6]\n",
      " [4 4 5 6 6]]\n"
     ]
    }
   ],
   "source": [
    "import numpy as np\n",
    "\n",
    "arr = np.array([[1, 2, 3], [4, 5, 6]])\n",
    "print(arr)\n",
    "\n",
    "# Thêm phần dày b��ng giá trị 0\n",
    "arr1 = np.pad(arr, ((1, 1), (1, 1)), mode='constant', constant_values=0)\n",
    "print(arr1)\n",
    "\n",
    "# Thêm phần dày b��ng giá trị cuối cùng của mảng\n",
    "arr2 = np.pad(arr, ((1, 1), (1, 1)), mode='edge')\n",
    "print(arr2)"
   ]
  },
  {
   "cell_type": "code",
   "execution_count": 8,
   "metadata": {},
   "outputs": [
    {
     "name": "stdout",
     "output_type": "stream",
     "text": [
      "Mảng ban đầu:\n",
      "[1 2 3 4 5 6 7 8]\n",
      "\n",
      "Mảng sau khi reshape với chiều hoặc trục khác nhau:\n",
      "[[[1 5]\n",
      "  [3 7]]\n",
      "\n",
      " [[2 6]\n",
      "  [4 8]]]\n",
      "[1 2 3 4 5 6 7 8]\n"
     ]
    }
   ],
   "source": [
    "import numpy as np\n",
    "\n",
    "# Mảng numpy ban đầu\n",
    "arr = np.array([1, 2, 3, 4, 5, 6, 7, 8])\n",
    "\n",
    "# Reshape với chiều hoặc trục khác nhau\n",
    "reshaped_arr = np.reshape(arr, (2, 2, 2), order='F')  # Sắp xếp theo cột\n",
    "\n",
    "print(\"Mảng ban đầu:\")\n",
    "print(arr)\n",
    "print(\"\\nMảng sau khi reshape với chiều hoặc trục khác nhau:\")\n",
    "print(reshaped_arr)\n",
    "print(reshaped_arr.flatten(order='F'))\n"
   ]
  },
  {
   "cell_type": "code",
   "execution_count": 6,
   "metadata": {},
   "outputs": [
    {
     "name": "stdout",
     "output_type": "stream",
     "text": [
      "Mảng ban đầu:\n",
      "[1 2 3 4 5 6 7 8]\n",
      "\n",
      "Mảng sau khi reshape với chiều hoặc trục khác nhau:\n",
      "[[[1 2]\n",
      "  [3 4]]\n",
      "\n",
      " [[5 6]\n",
      "  [7 8]]]\n"
     ]
    }
   ],
   "source": [
    "import numpy as np\n",
    "\n",
    "# Mảng numpy ban đầu\n",
    "arr = np.array([1, 2, 3, 4, 5, 6, 7, 8])\n",
    "\n",
    "# Reshape với chiều hoặc trục khác nhau\n",
    "reshaped_arr = np.reshape(arr, (2, 2, 2), order='C')  # Sắp xếp theo cột\n",
    "\n",
    "print(\"Mảng ban đầu:\")\n",
    "print(arr)\n",
    "print(\"\\nMảng sau khi reshape với chiều hoặc trục khác nhau:\")\n",
    "print(reshaped_arr)\n"
   ]
  },
  {
   "cell_type": "code",
   "execution_count": 13,
   "metadata": {},
   "outputs": [
    {
     "data": {
      "text/plain": [
       "0"
      ]
     },
     "execution_count": 13,
     "metadata": {},
     "output_type": "execute_result"
    }
   ],
   "source": [
    "4%2"
   ]
  },
  {
   "cell_type": "code",
   "execution_count": 15,
   "metadata": {},
   "outputs": [
    {
     "data": {
      "text/plain": [
       "1"
      ]
     },
     "execution_count": 15,
     "metadata": {},
     "output_type": "execute_result"
    }
   ],
   "source": [
    "10000%11"
   ]
  },
  {
   "cell_type": "code",
   "execution_count": null,
   "metadata": {},
   "outputs": [],
   "source": []
  }
 ],
 "metadata": {
  "kernelspec": {
   "display_name": "base",
   "language": "python",
   "name": "python3"
  },
  "language_info": {
   "codemirror_mode": {
    "name": "ipython",
    "version": 3
   },
   "file_extension": ".py",
   "mimetype": "text/x-python",
   "name": "python",
   "nbconvert_exporter": "python",
   "pygments_lexer": "ipython3",
   "version": "3.11.5"
  }
 },
 "nbformat": 4,
 "nbformat_minor": 2
}
